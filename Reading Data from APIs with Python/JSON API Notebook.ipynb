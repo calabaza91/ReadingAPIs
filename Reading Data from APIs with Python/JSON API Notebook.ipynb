{
 "cells": [
  {
   "cell_type": "code",
   "execution_count": 1,
   "metadata": {},
   "outputs": [],
   "source": [
    "from urllib.request import urlopen\n",
    "import json"
   ]
  },
  {
   "cell_type": "code",
   "execution_count": 2,
   "metadata": {},
   "outputs": [],
   "source": [
    "url = \"https://www.data.qld.gov.au/api/3/action/datastore_search?resource_id=7afe7233-fae0-4024-bc98-3a72f05675bd&limit=5\"\n",
    "\n",
    "#Fetch JSON Data\n",
    "urlResult = urlopen(url)\n",
    "rawData = urlResult.read()\n",
    "jsonData = json.loads(rawData)\n",
    "#Turn raw data into a string\n",
    "jsonString = json.dumps(jsonData)"
   ]
  },
  {
   "cell_type": "code",
   "execution_count": 3,
   "metadata": {},
   "outputs": [
    {
     "name": "stdout",
     "output_type": "stream",
     "text": [
      "{\"help\": \"https://www.data.qld.gov.au/api/3/action/help_show?name=datastore_search\", \"success\": true, \"result\": {\"include_total\": true, \"resource_id\": \"7afe7233-fae0-4024-bc98-3a72f05675bd\", \"fields\": [{\"type\": \"int\", \"id\": \"_id\"}, {\"info\": {\"notes\": \"\", \"type_override\": \"\", \"label\": \"\"}, \"type\": \"text\", \"id\": \"Site\"}, {\"info\": {\"notes\": \"\", \"type_override\": \"numeric\", \"label\": \"\"}, \"type\": \"numeric\", \"id\": \"Seconds\"}, {\"info\": {\"notes\": \"\", \"type_override\": \"timestamp\", \"label\": \"\"}, \"type\": \"timestamp\", \"id\": \"DateTime\"}, {\"info\": {\"notes\": \"\", \"type_override\": \"numeric\", \"label\": \"\"}, \"type\": \"numeric\", \"id\": \"Water Level\"}, {\"info\": {\"notes\": \"\", \"type_override\": \"numeric\", \"label\": \"\"}, \"type\": \"numeric\", \"id\": \"Prediction\"}, {\"info\": {\"notes\": \"\", \"type_override\": \"numeric\", \"label\": \"\"}, \"type\": \"numeric\", \"id\": \"Residual\"}, {\"info\": {\"notes\": \"\", \"type_override\": \"numeric\", \"label\": \"\"}, \"type\": \"numeric\", \"id\": \"Latitude\"}, {\"info\": {\"notes\": \"\", \"type_override\": \"numeric\", \"label\": \"\"}, \"type\": \"numeric\", \"id\": \"Longitude\"}], \"records_format\": \"objects\", \"records\": [{\"_id\": 1, \"Site\": \"abellpoint\", \"Seconds\": 1590501600, \"DateTime\": \"2020-05-27T00:00:00\", \"Water Level\": 2.881, \"Prediction\": 2.954, \"Residual\": -0.073, \"Latitude\": -20.2608, \"Longitude\": 148.7103}, {\"_id\": 2, \"Site\": \"abellpoint\", \"Seconds\": 1590502200, \"DateTime\": \"2020-05-27T00:10:00\", \"Water Level\": 2.891, \"Prediction\": 2.992, \"Residual\": -0.101, \"Latitude\": -20.2608, \"Longitude\": 148.7103}, {\"_id\": 3, \"Site\": \"abellpoint\", \"Seconds\": 1590502800, \"DateTime\": \"2020-05-27T00:20:00\", \"Water Level\": 2.953, \"Prediction\": 3.025, \"Residual\": -0.072, \"Latitude\": -20.2608, \"Longitude\": 148.7103}, {\"_id\": 4, \"Site\": \"abellpoint\", \"Seconds\": 1590503400, \"DateTime\": \"2020-05-27T00:30:00\", \"Water Level\": 2.995, \"Prediction\": 3.056, \"Residual\": -0.061, \"Latitude\": -20.2608, \"Longitude\": 148.7103}, {\"_id\": 5, \"Site\": \"abellpoint\", \"Seconds\": 1590504000, \"DateTime\": \"2020-05-27T00:40:00\", \"Water Level\": 3.01, \"Prediction\": 3.083, \"Residual\": -0.073, \"Latitude\": -20.2608, \"Longitude\": 148.7103}], \"limit\": 5, \"_links\": {\"start\": \"/api/3/action/datastore_search?limit=5&resource_id=7afe7233-fae0-4024-bc98-3a72f05675bd\", \"next\": \"/api/3/action/datastore_search?offset=5&limit=5&resource_id=7afe7233-fae0-4024-bc98-3a72f05675bd\"}, \"total\": 58482}}\n"
     ]
    }
   ],
   "source": [
    "print(jsonString)"
   ]
  },
  {
   "cell_type": "code",
   "execution_count": 4,
   "metadata": {},
   "outputs": [
    {
     "name": "stdout",
     "output_type": "stream",
     "text": [
      "https://www.data.qld.gov.au/api/3/action/help_show?name=datastore_search\n"
     ]
    }
   ],
   "source": [
    "#Parse Json Data\n",
    "#Grab Url from dictionary\n",
    "print(jsonData[\"help\"])"
   ]
  },
  {
   "cell_type": "code",
   "execution_count": 5,
   "metadata": {},
   "outputs": [
    {
     "name": "stdout",
     "output_type": "stream",
     "text": [
      "{'include_total': True, 'resource_id': '7afe7233-fae0-4024-bc98-3a72f05675bd', 'fields': [{'type': 'int', 'id': '_id'}, {'info': {'notes': '', 'type_override': '', 'label': ''}, 'type': 'text', 'id': 'Site'}, {'info': {'notes': '', 'type_override': 'numeric', 'label': ''}, 'type': 'numeric', 'id': 'Seconds'}, {'info': {'notes': '', 'type_override': 'timestamp', 'label': ''}, 'type': 'timestamp', 'id': 'DateTime'}, {'info': {'notes': '', 'type_override': 'numeric', 'label': ''}, 'type': 'numeric', 'id': 'Water Level'}, {'info': {'notes': '', 'type_override': 'numeric', 'label': ''}, 'type': 'numeric', 'id': 'Prediction'}, {'info': {'notes': '', 'type_override': 'numeric', 'label': ''}, 'type': 'numeric', 'id': 'Residual'}, {'info': {'notes': '', 'type_override': 'numeric', 'label': ''}, 'type': 'numeric', 'id': 'Latitude'}, {'info': {'notes': '', 'type_override': 'numeric', 'label': ''}, 'type': 'numeric', 'id': 'Longitude'}], 'records_format': 'objects', 'records': [{'_id': 1, 'Site': 'abellpoint', 'Seconds': 1590501600, 'DateTime': '2020-05-27T00:00:00', 'Water Level': 2.881, 'Prediction': 2.954, 'Residual': -0.073, 'Latitude': -20.2608, 'Longitude': 148.7103}, {'_id': 2, 'Site': 'abellpoint', 'Seconds': 1590502200, 'DateTime': '2020-05-27T00:10:00', 'Water Level': 2.891, 'Prediction': 2.992, 'Residual': -0.101, 'Latitude': -20.2608, 'Longitude': 148.7103}, {'_id': 3, 'Site': 'abellpoint', 'Seconds': 1590502800, 'DateTime': '2020-05-27T00:20:00', 'Water Level': 2.953, 'Prediction': 3.025, 'Residual': -0.072, 'Latitude': -20.2608, 'Longitude': 148.7103}, {'_id': 4, 'Site': 'abellpoint', 'Seconds': 1590503400, 'DateTime': '2020-05-27T00:30:00', 'Water Level': 2.995, 'Prediction': 3.056, 'Residual': -0.061, 'Latitude': -20.2608, 'Longitude': 148.7103}, {'_id': 5, 'Site': 'abellpoint', 'Seconds': 1590504000, 'DateTime': '2020-05-27T00:40:00', 'Water Level': 3.01, 'Prediction': 3.083, 'Residual': -0.073, 'Latitude': -20.2608, 'Longitude': 148.7103}], 'limit': 5, '_links': {'start': '/api/3/action/datastore_search?limit=5&resource_id=7afe7233-fae0-4024-bc98-3a72f05675bd', 'next': '/api/3/action/datastore_search?offset=5&limit=5&resource_id=7afe7233-fae0-4024-bc98-3a72f05675bd'}, 'total': 58482}\n"
     ]
    }
   ],
   "source": [
    "result = jsonData[\"result\"]\n",
    "print(result)"
   ]
  },
  {
   "cell_type": "code",
   "execution_count": 6,
   "metadata": {},
   "outputs": [
    {
     "name": "stdout",
     "output_type": "stream",
     "text": [
      "[{'_id': 1, 'Site': 'abellpoint', 'Seconds': 1590501600, 'DateTime': '2020-05-27T00:00:00', 'Water Level': 2.881, 'Prediction': 2.954, 'Residual': -0.073, 'Latitude': -20.2608, 'Longitude': 148.7103}, {'_id': 2, 'Site': 'abellpoint', 'Seconds': 1590502200, 'DateTime': '2020-05-27T00:10:00', 'Water Level': 2.891, 'Prediction': 2.992, 'Residual': -0.101, 'Latitude': -20.2608, 'Longitude': 148.7103}, {'_id': 3, 'Site': 'abellpoint', 'Seconds': 1590502800, 'DateTime': '2020-05-27T00:20:00', 'Water Level': 2.953, 'Prediction': 3.025, 'Residual': -0.072, 'Latitude': -20.2608, 'Longitude': 148.7103}, {'_id': 4, 'Site': 'abellpoint', 'Seconds': 1590503400, 'DateTime': '2020-05-27T00:30:00', 'Water Level': 2.995, 'Prediction': 3.056, 'Residual': -0.061, 'Latitude': -20.2608, 'Longitude': 148.7103}, {'_id': 5, 'Site': 'abellpoint', 'Seconds': 1590504000, 'DateTime': '2020-05-27T00:40:00', 'Water Level': 3.01, 'Prediction': 3.083, 'Residual': -0.073, 'Latitude': -20.2608, 'Longitude': 148.7103}]\n"
     ]
    }
   ],
   "source": [
    "records = result[\"records\"]\n",
    "print(records)"
   ]
  },
  {
   "cell_type": "code",
   "execution_count": 10,
   "metadata": {},
   "outputs": [
    {
     "name": "stdout",
     "output_type": "stream",
     "text": [
      "abellpoint\n",
      "2020-05-27T00:00:00\n",
      "2.881\n",
      "2.954\n",
      "-0.073\n"
     ]
    }
   ],
   "source": [
    "firstRecord = records[0]\n",
    "print(firstRecord[\"Site\"])\n",
    "print(firstRecord[\"DateTime\"])\n",
    "print(firstRecord[\"Water Level\"])\n",
    "print(firstRecord[\"Prediction\"])\n",
    "print(firstRecord[\"Residual\"])"
   ]
  },
  {
   "cell_type": "code",
   "execution_count": 11,
   "metadata": {},
   "outputs": [
    {
     "name": "stdout",
     "output_type": "stream",
     "text": [
      "[['abellpoint', '2020-05-27T00:00:00', 2.881, 2.954, -0.073], ['abellpoint', '2020-05-27T00:10:00', 2.891, 2.992, -0.101], ['abellpoint', '2020-05-27T00:20:00', 2.953, 3.025, -0.072], ['abellpoint', '2020-05-27T00:30:00', 2.995, 3.056, -0.061], ['abellpoint', '2020-05-27T00:40:00', 3.01, 3.083, -0.073]]\n"
     ]
    }
   ],
   "source": [
    "recordsData = []\n",
    "for record in records:\n",
    "    recordData = [\n",
    "        record[\"Site\"],\n",
    "        record[\"DateTime\"],\n",
    "        record[\"Water Level\"],\n",
    "        record[\"Prediction\"],\n",
    "        record[\"Residual\"]\n",
    "    ]\n",
    "    recordsData.append(recordData)\n",
    "print(recordsData)"
   ]
  },
  {
   "cell_type": "code",
   "execution_count": 13,
   "metadata": {},
   "outputs": [],
   "source": [
    "#Write JSON API to CSV\n",
    "\n",
    "filename = 'StormTideData.csv'\n",
    "f = open(filename, 'w')\n",
    "\n",
    "headers = 'Site, DateTime, Water Level, Prediction, Residual\\n'\n",
    "\n",
    "f.write(headers)\n",
    "\n",
    "for record in records:\n",
    "    rowString = ''\n",
    "    rowString += record[\"Site\"] + ','\n",
    "    rowString += record[\"DateTime\"] + ','\n",
    "    rowString += str(record[\"Water Level\"]) + ','\n",
    "    rowString += str(record[\"Prediction\"]) + ','\n",
    "    rowString += str(record[\"Residual\"]) + '\\n'\n",
    "    \n",
    "    f.write(rowString)\n",
    "\n",
    "f.close()"
   ]
  },
  {
   "cell_type": "code",
   "execution_count": null,
   "metadata": {},
   "outputs": [],
   "source": []
  }
 ],
 "metadata": {
  "kernelspec": {
   "display_name": "Python 3",
   "language": "python",
   "name": "python3"
  },
  "language_info": {
   "codemirror_mode": {
    "name": "ipython",
    "version": 3
   },
   "file_extension": ".py",
   "mimetype": "text/x-python",
   "name": "python",
   "nbconvert_exporter": "python",
   "pygments_lexer": "ipython3",
   "version": "3.6.5"
  }
 },
 "nbformat": 4,
 "nbformat_minor": 2
}
